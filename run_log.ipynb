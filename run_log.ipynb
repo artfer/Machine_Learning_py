{
 "cells": [
  {
   "cell_type": "code",
   "execution_count": 1,
   "metadata": {},
   "outputs": [],
   "source": [
    "from p2 import *"
   ]
  },
  {
   "cell_type": "markdown",
   "metadata": {},
   "source": [
    "# Test Run \n",
    "Just to test, let's run each model one time on each dataset. <br>\n",
    "### 1. The Votes dataset:"
   ]
  },
  {
   "cell_type": "code",
   "execution_count": 2,
   "metadata": {
    "scrolled": true
   },
   "outputs": [
    {
     "name": "stdout",
     "output_type": "stream",
     "text": [
      "Naive Bayes:\n",
      "\tTime to train: 0.003 seconds\n",
      "\tTime to predict: 0.003 seconds\n",
      "\tAccuracy: 90.076%\n",
      "\tPrecision: 87.500%\n",
      "\tRecall: 91.803%\n",
      "\n",
      "Logistic Regression:\n",
      "\tTime to train: 0.003 seconds\n",
      "\tTime to predict: 0.001 seconds\n",
      "\tAccuracy: 93.130%\n",
      "\tPrecision: 94.828%\n",
      "\tRecall: 90.164%\n",
      "\n",
      "Decision Tree:\n",
      "\tTime to train: 0.002 seconds\n",
      "\tTime to predict: 0.001 seconds\n",
      "\tAccuracy: 94.656%\n",
      "\tPrecision: 98.214%\n",
      "\tRecall: 90.164%\n",
      "\n"
     ]
    }
   ],
   "source": [
    "df = import_data('house-votes-84.data')\n",
    "train,train_class,test,test_class = split_data(df)\n",
    "\n",
    "train_and_test(1,1,train,train_class,test,test_class,debug=True)\n",
    "train_and_test(1,2,train,train_class,test,test_class,debug=True)\n",
    "train_and_test(1,3,train,train_class,test,test_class,debug=True)"
   ]
  },
  {
   "cell_type": "markdown",
   "metadata": {},
   "source": [
    "### 2. The Soccer dataset:"
   ]
  },
  {
   "cell_type": "code",
   "execution_count": 3,
   "metadata": {},
   "outputs": [
    {
     "name": "stdout",
     "output_type": "stream",
     "text": [
      "Naive Bayes:\n",
      "\tTime to train: 0.007 seconds\n",
      "\tTime to predict: 0.003 seconds\n",
      "\tAccuracy: 43.361%\n",
      "Logistic Regression:\n",
      "\tTime to train: 1.119 seconds\n",
      "\tTime to predict: 0.002 seconds\n",
      "\tAccuracy: 45.677%\n",
      "Decision Tree:\n",
      "\tTime to train: 0.094 seconds\n",
      "\tTime to predict: 0.004 seconds\n",
      "\tAccuracy: 42.313%\n"
     ]
    }
   ],
   "source": [
    "df = import_data('soccer.csv')\n",
    "train,train_class,test,test_class = split_data(df)\n",
    "\n",
    "train_and_test(2,1,train,train_class,test,test_class,debug=True)\n",
    "train_and_test(2,2,train,train_class,test,test_class,debug=True)\n",
    "train_and_test(2,3,train,train_class,test,test_class,debug=True)"
   ]
  },
  {
   "cell_type": "markdown",
   "metadata": {},
   "source": [
    "### 3. The Heart dataset:"
   ]
  },
  {
   "cell_type": "code",
   "execution_count": 4,
   "metadata": {},
   "outputs": [
    {
     "name": "stdout",
     "output_type": "stream",
     "text": [
      "Naive Bayes:\n",
      "\tTime to train: 0.004 seconds\n",
      "\tTime to predict: 0.003 seconds\n",
      "\tAccuracy: 84.615%\n",
      "\tPrecision: 91.489%\n",
      "\tRecall: 81.132%\n",
      "\n",
      "Logistic Regression:\n",
      "\tTime to train: 0.010 seconds\n",
      "\tTime to predict: 0.002 seconds\n",
      "\tAccuracy: 84.615%\n",
      "\tPrecision: 88.235%\n",
      "\tRecall: 84.906%\n",
      "\n",
      "Decision Tree:\n",
      "\tTime to train: 0.006 seconds\n",
      "\tTime to predict: 0.002 seconds\n",
      "\tAccuracy: 80.220%\n",
      "\tPrecision: 90.698%\n",
      "\tRecall: 73.585%\n",
      "\n"
     ]
    }
   ],
   "source": [
    "df = import_data('heart.csv')\n",
    "train,train_class,test,test_class = split_data(df)\n",
    "\n",
    "train_and_test(3,1,train,train_class,test,test_class,debug=True)\n",
    "train_and_test(3,2,train,train_class,test,test_class,debug=True)\n",
    "train_and_test(3,3,train,train_class,test,test_class,debug=True)"
   ]
  },
  {
   "cell_type": "markdown",
   "metadata": {},
   "source": [
    "## The Random Factor...\n",
    "The train and test sets are genarated randomly. Because of this, results can change. So, let's run everything 10 times and average the results."
   ]
  },
  {
   "cell_type": "code",
   "execution_count": 5,
   "metadata": {},
   "outputs": [],
   "source": [
    "def print_stats(train,test,acc,prec,recall):\n",
    "    print('\\tAvg Training Time: %.3f seconds' % (train/10))\n",
    "    print('\\tAvg Testing Time: %.3f seconds' % (test/10))\n",
    "    print('\\tAvg Accuracy: %.3f%%' % (acc/10))\n",
    "    print('\\tAvg Precision: %.3f%%' % (prec/10))\n",
    "    print('\\tAvg Recall: %.3f%%\\n' % (recall/10))"
   ]
  },
  {
   "cell_type": "code",
   "execution_count": 6,
   "metadata": {},
   "outputs": [
    {
     "name": "stdout",
     "output_type": "stream",
     "text": [
      "Naive Bayes:\n",
      "\tAvg Training Time: 0.002 seconds\n",
      "\tAvg Testing Time: 0.001 seconds\n",
      "\tAvg Accuracy: 92.214%\n",
      "\tAvg Precision: 88.434%\n",
      "\tAvg Recall: 92.382%\n",
      "\n",
      "Logistic Regression:\n",
      "\tAvg Training Time: 0.002 seconds\n",
      "\tAvg Testing Time: 0.001 seconds\n",
      "\tAvg Accuracy: 93.740%\n",
      "\tAvg Precision: 91.498%\n",
      "\tAvg Recall: 92.734%\n",
      "\n",
      "Decision Trees:\n",
      "\tAvg Training Time: 0.001 seconds\n",
      "\tAvg Testing Time: 0.001 seconds\n",
      "\tAvg Accuracy: 94.275%\n",
      "\tAvg Precision: 92.245%\n",
      "\tAvg Recall: 93.302%\n",
      "\n"
     ]
    }
   ],
   "source": [
    "nb_train,nb_test,nb_acc,nb_prec,nb_recall = 0,0,0,0,0\n",
    "lg_train,lg_test,lg_acc,lg_prec,lg_recall = 0,0,0,0,0\n",
    "dt_train,dt_test,dt_acc,dt_prec,dt_recall = 0,0,0,0,0\n",
    "for i in range(10):\n",
    "    df = import_data('house-votes-84.data')\n",
    "    train,train_class,test,test_class = split_data(df)\n",
    "\n",
    "    tmp1,tmp2,tmp3,tmp4,tmp5 = train_and_test(1,1,train,train_class,test,test_class)\n",
    "    nb_train += tmp1\n",
    "    nb_test  += tmp2\n",
    "    nb_acc   += tmp3\n",
    "    nb_prec  += tmp4\n",
    "    nb_recall+= tmp5\n",
    "    \n",
    "    tmp1,tmp2,tmp3,tmp4,tmp5 = train_and_test(1,2,train,train_class,test,test_class)\n",
    "    lg_train += tmp1\n",
    "    lg_test  += tmp2\n",
    "    lg_acc   += tmp3\n",
    "    lg_prec  += tmp4\n",
    "    lg_recall+= tmp5\n",
    "    \n",
    "    tmp1,tmp2,tmp3,tmp4,tmp5 = train_and_test(1,3,train,train_class,test,test_class)\n",
    "    dt_train += tmp1\n",
    "    dt_test  += tmp2\n",
    "    dt_acc   += tmp3\n",
    "    dt_prec  += tmp4\n",
    "    dt_recall+= tmp5\n",
    "    \n",
    "print('Naive Bayes:')\n",
    "print_stats(nb_train,nb_test,nb_acc,nb_prec,nb_recall)\n",
    "\n",
    "print('Logistic Regression:')\n",
    "print_stats(lg_train,lg_test,lg_acc,lg_prec,lg_recall)\n",
    "\n",
    "print('Decision Trees:')\n",
    "print_stats(dt_train,dt_test,dt_acc,dt_prec,dt_recall)"
   ]
  },
  {
   "cell_type": "code",
   "execution_count": 7,
   "metadata": {
    "scrolled": true
   },
   "outputs": [
    {
     "name": "stdout",
     "output_type": "stream",
     "text": [
      "Naive Bayes:\n",
      "\tAvg Training Time: 0.008 seconds\n",
      "\tAvg Testing Time: 0.004 seconds\n",
      "\tAvg Accuracy: 47.814%\n",
      "\tAvg Precision: 0.000%\n",
      "\tAvg Recall: 0.000%\n",
      "\n",
      "Logistic Regression:\n",
      "\tAvg Training Time: 1.370 seconds\n",
      "\tAvg Testing Time: 0.002 seconds\n",
      "\tAvg Accuracy: 46.093%\n",
      "\tAvg Precision: 0.000%\n",
      "\tAvg Recall: 0.000%\n",
      "\n",
      "Decision Trees:\n",
      "\tAvg Training Time: 0.101 seconds\n",
      "\tAvg Testing Time: 0.004 seconds\n",
      "\tAvg Accuracy: 41.332%\n",
      "\tAvg Precision: 0.000%\n",
      "\tAvg Recall: 0.000%\n",
      "\n"
     ]
    }
   ],
   "source": [
    "nb_train,nb_test,nb_acc,nb_prec,nb_recall = 0,0,0,0,0\n",
    "lg_train,lg_test,lg_acc,lg_prec,lg_recall = 0,0,0,0,0\n",
    "dt_train,dt_test,dt_acc,dt_prec,dt_recall = 0,0,0,0,0\n",
    "for i in range(10):\n",
    "    df = import_data('soccer.csv')\n",
    "    train,train_class,test,test_class = split_data(df)\n",
    "\n",
    "    tmp1,tmp2,tmp3,tmp4,tmp5 = train_and_test(2,1,train,train_class,test,test_class)\n",
    "    nb_train += tmp1\n",
    "    nb_test  += tmp2\n",
    "    nb_acc   += tmp3\n",
    "    nb_prec  += tmp4\n",
    "    nb_recall+= tmp5\n",
    "    \n",
    "    tmp1,tmp2,tmp3,tmp4,tmp5 = train_and_test(2,2,train,train_class,test,test_class)\n",
    "    lg_train += tmp1\n",
    "    lg_test  += tmp2\n",
    "    lg_acc   += tmp3\n",
    "    lg_prec  += tmp4\n",
    "    lg_recall+= tmp5\n",
    "    \n",
    "    tmp1,tmp2,tmp3,tmp4,tmp5 = train_and_test(2,3,train,train_class,test,test_class)\n",
    "    dt_train += tmp1\n",
    "    dt_test  += tmp2\n",
    "    dt_acc   += tmp3\n",
    "    dt_prec  += tmp4\n",
    "    dt_recall+= tmp5\n",
    "    \n",
    "print('Naive Bayes:')\n",
    "print_stats(nb_train,nb_test,nb_acc,nb_prec,nb_recall)\n",
    "\n",
    "print('Logistic Regression:')\n",
    "print_stats(lg_train,lg_test,lg_acc,lg_prec,lg_recall)\n",
    "\n",
    "print('Decision Trees:')\n",
    "print_stats(dt_train,dt_test,dt_acc,dt_prec,dt_recall)"
   ]
  },
  {
   "cell_type": "code",
   "execution_count": 8,
   "metadata": {},
   "outputs": [
    {
     "name": "stdout",
     "output_type": "stream",
     "text": [
      "Naive Bayes:\n",
      "\tAvg Training Time: 0.002 seconds\n",
      "\tAvg Testing Time: 0.001 seconds\n",
      "\tAvg Accuracy: 81.758%\n",
      "\tAvg Precision: 81.699%\n",
      "\tAvg Recall: 86.198%\n",
      "\n",
      "Logistic Regression:\n",
      "\tAvg Training Time: 0.003 seconds\n",
      "\tAvg Testing Time: 0.001 seconds\n",
      "\tAvg Accuracy: 82.857%\n",
      "\tAvg Precision: 81.886%\n",
      "\tAvg Recall: 88.401%\n",
      "\n",
      "Decision Trees:\n",
      "\tAvg Training Time: 0.002 seconds\n",
      "\tAvg Testing Time: 0.001 seconds\n",
      "\tAvg Accuracy: 76.154%\n",
      "\tAvg Precision: 78.104%\n",
      "\tAvg Recall: 79.178%\n",
      "\n"
     ]
    }
   ],
   "source": [
    "nb_train,nb_test,nb_acc,nb_prec,nb_recall = 0,0,0,0,0\n",
    "lg_train,lg_test,lg_acc,lg_prec,lg_recall = 0,0,0,0,0\n",
    "dt_train,dt_test,dt_acc,dt_prec,dt_recall = 0,0,0,0,0\n",
    "for i in range(10):\n",
    "    df = import_data('heart.csv')\n",
    "    train,train_class,test,test_class = split_data(df)\n",
    "\n",
    "    tmp1,tmp2,tmp3,tmp4,tmp5 = train_and_test(3,1,train,train_class,test,test_class)\n",
    "    nb_train += tmp1\n",
    "    nb_test  += tmp2\n",
    "    nb_acc   += tmp3\n",
    "    nb_prec  += tmp4\n",
    "    nb_recall+= tmp5\n",
    "    \n",
    "    tmp1,tmp2,tmp3,tmp4,tmp5 = train_and_test(3,2,train,train_class,test,test_class)\n",
    "    lg_train += tmp1\n",
    "    lg_test  += tmp2\n",
    "    lg_acc   += tmp3\n",
    "    lg_prec  += tmp4\n",
    "    lg_recall+= tmp5\n",
    "    \n",
    "    tmp1,tmp2,tmp3,tmp4,tmp5 = train_and_test(3,3,train,train_class,test,test_class)\n",
    "    dt_train += tmp1\n",
    "    dt_test  += tmp2\n",
    "    dt_acc   += tmp3\n",
    "    dt_prec  += tmp4\n",
    "    dt_recall+= tmp5\n",
    "    \n",
    "print('Naive Bayes:')\n",
    "print_stats(nb_train,nb_test,nb_acc,nb_prec,nb_recall)\n",
    "\n",
    "print('Logistic Regression:')\n",
    "print_stats(lg_train,lg_test,lg_acc,lg_prec,lg_recall)\n",
    "\n",
    "print('Decision Trees:')\n",
    "print_stats(dt_train,dt_test,dt_acc,dt_prec,dt_recall)"
   ]
  }
 ],
 "metadata": {
  "kernelspec": {
   "display_name": "Python 3",
   "language": "python",
   "name": "python3"
  },
  "language_info": {
   "codemirror_mode": {
    "name": "ipython",
    "version": 3
   },
   "file_extension": ".py",
   "mimetype": "text/x-python",
   "name": "python",
   "nbconvert_exporter": "python",
   "pygments_lexer": "ipython3",
   "version": "3.6.8"
  }
 },
 "nbformat": 4,
 "nbformat_minor": 2
}
